{
 "cells": [
  {
   "cell_type": "markdown",
   "id": "c188846a",
   "metadata": {},
   "source": [
    "# User name : anchowdhury1"
   ]
  },
  {
   "cell_type": "markdown",
   "id": "7b0ddb63",
   "metadata": {},
   "source": [
    "## Problem Set 1 - https://www.beecrowd.com.br/judge/en/problems/index/1"
   ]
  },
  {
   "cell_type": "markdown",
   "id": "e2b8bfcd",
   "metadata": {},
   "source": [
    "### Problem_1000_Hello World!_solution"
   ]
  },
  {
   "cell_type": "code",
   "execution_count": 7,
   "id": "2c233e87",
   "metadata": {
    "scrolled": true
   },
   "outputs": [
    {
     "name": "stdout",
     "output_type": "stream",
     "text": [
      "Hello World!\n"
     ]
    }
   ],
   "source": [
    "print(\"Hello World!\")"
   ]
  },
  {
   "cell_type": "markdown",
   "id": "bf1b5c10",
   "metadata": {},
   "source": [
    "### Problem_1001_Extremely Basic_solution"
   ]
  },
  {
   "cell_type": "code",
   "execution_count": 8,
   "id": "01cfb118",
   "metadata": {},
   "outputs": [
    {
     "name": "stdout",
     "output_type": "stream",
     "text": [
      "3\n",
      "4\n",
      "X = 7\n"
     ]
    }
   ],
   "source": [
    "a= int(input())\n",
    "b= int(input())\n",
    "c=a+b;\n",
    "print(f\"X = {c}\")"
   ]
  },
  {
   "cell_type": "markdown",
   "id": "2320aeac",
   "metadata": {},
   "source": [
    "### Problem_1002_Area of a Circle_solution"
   ]
  },
  {
   "cell_type": "code",
   "execution_count": 10,
   "id": "af798991",
   "metadata": {},
   "outputs": [
    {
     "name": "stdout",
     "output_type": "stream",
     "text": [
      "2.00\n",
      "A=12.5664\n"
     ]
    }
   ],
   "source": [
    "x=float(input())\n",
    "pi=3.14159\n",
    "area=pi*x*x\n",
    "convert_area=\"{:.4f}\".format(area)\n",
    "print(f\"A={convert_area}\")"
   ]
  },
  {
   "cell_type": "markdown",
   "id": "ae79dfa4",
   "metadata": {},
   "source": [
    "### Problem_1003_Simple Sum_solution"
   ]
  },
  {
   "cell_type": "code",
   "execution_count": 11,
   "id": "1acd32bf",
   "metadata": {},
   "outputs": [
    {
     "name": "stdout",
     "output_type": "stream",
     "text": [
      "20\n",
      "-10\n",
      "SOMA = 10\n"
     ]
    }
   ],
   "source": [
    "a= int(input())\n",
    "b= int(input())\n",
    "c=a+b;\n",
    "print(f\"SOMA = {c}\")"
   ]
  },
  {
   "cell_type": "markdown",
   "id": "066aed63",
   "metadata": {},
   "source": [
    "### Problem_1004_Simple Product_solution"
   ]
  },
  {
   "cell_type": "code",
   "execution_count": 13,
   "id": "b6231be6",
   "metadata": {},
   "outputs": [
    {
     "name": "stdout",
     "output_type": "stream",
     "text": [
      "3\n",
      "9\n",
      "PROD = 27\n"
     ]
    }
   ],
   "source": [
    "p= int(input())\n",
    "q= int(input())\n",
    "r=p*q;\n",
    "print(f\"PROD = {r}\")"
   ]
  },
  {
   "cell_type": "markdown",
   "id": "9eed0787",
   "metadata": {},
   "source": [
    "### Problem_1005_Average 1_solution"
   ]
  },
  {
   "cell_type": "code",
   "execution_count": 18,
   "id": "d3a8a5bb",
   "metadata": {},
   "outputs": [
    {
     "name": "stdout",
     "output_type": "stream",
     "text": [
      "5.1\n",
      "7.0\n",
      "MEDIA = 6.39545\n"
     ]
    }
   ],
   "source": [
    "num1=float(input())\n",
    "num2=float(input())\n",
    "avg=((num1*3.5)+(num2*7.5))/11.00;\n",
    "convert_avg=\"{:.5f}\".format(avg)\n",
    "print(f\"MEDIA = {convert_avg}\")"
   ]
  },
  {
   "cell_type": "markdown",
   "id": "55ea700f",
   "metadata": {},
   "source": [
    "### Problem_1006_Average 2_solution"
   ]
  },
  {
   "cell_type": "code",
   "execution_count": 19,
   "id": "4315c642",
   "metadata": {},
   "outputs": [
    {
     "name": "stdout",
     "output_type": "stream",
     "text": [
      "5\n",
      "6\n",
      "7\n",
      "MEDIA = 6.3\n"
     ]
    }
   ],
   "source": [
    "n1=float(input())\n",
    "n2=float(input())\n",
    "n3=float(input())\n",
    "avg=((n1*2)+(n2*3)+(n3*5))/10.00;\n",
    "convert_avg=\"{:.1f}\".format(avg)\n",
    "print(f\"MEDIA = {convert_avg}\")"
   ]
  },
  {
   "cell_type": "markdown",
   "id": "afe1a690",
   "metadata": {},
   "source": [
    "### Problem_1007_Difference_solution"
   ]
  },
  {
   "cell_type": "code",
   "execution_count": 20,
   "id": "3396e4b1",
   "metadata": {},
   "outputs": [
    {
     "name": "stdout",
     "output_type": "stream",
     "text": [
      "5\n",
      "6\n",
      "7\n",
      "8\n",
      "DIFERENCA = -26\n"
     ]
    }
   ],
   "source": [
    "a=int(input())\n",
    "b=int(input())\n",
    "c=int(input())\n",
    "d=int(input())\n",
    "e=a*b-c*d\n",
    "print(f\"DIFERENCA = {e}\")"
   ]
  },
  {
   "cell_type": "markdown",
   "id": "7b7bd469",
   "metadata": {},
   "source": [
    "### Problem_1008_Salary_solution"
   ]
  },
  {
   "cell_type": "code",
   "execution_count": 25,
   "id": "ef1a453f",
   "metadata": {},
   "outputs": [
    {
     "name": "stdout",
     "output_type": "stream",
     "text": [
      "25\n",
      "100\n",
      "5.50\n",
      "NUMBER = 25\n",
      "SALARY = U$ 550.00\n"
     ]
    }
   ],
   "source": [
    "num=int(input())\n",
    "hour=int(input())\n",
    "money_per_hour=float(input())\n",
    "salary=hour * money_per_hour\n",
    "updated_salary = \"{:.2f}\".format(salary)\n",
    "print(\"NUMBER =\",num)\n",
    "print(\"SALARY = U$\",updated_salary)"
   ]
  },
  {
   "cell_type": "markdown",
   "id": "53c02c27",
   "metadata": {},
   "source": [
    "### Problem_1009_Salary with Bonus_solution"
   ]
  },
  {
   "cell_type": "code",
   "execution_count": 30,
   "id": "5bb619aa",
   "metadata": {},
   "outputs": [
    {
     "name": "stdout",
     "output_type": "stream",
     "text": [
      "afia\n",
      "500\n",
      "1230.3\n",
      "TOTAL = R$ 684.54\n"
     ]
    }
   ],
   "source": [
    "name=input()\n",
    "main_salary=float(input())\n",
    "sold_money=float(input())\n",
    "bonus_money=(sold_money*15)/100\n",
    "full_salary=main_salary+bonus_money\n",
    "updated_full_salary = \"{:.2f}\".format(full_salary)\n",
    "print(\"TOTAL = R$\",updated_full_salary)"
   ]
  },
  {
   "cell_type": "markdown",
   "id": "5aea1501",
   "metadata": {},
   "source": [
    "### Problem_1010_Simple Calculate_solution"
   ]
  },
  {
   "cell_type": "code",
   "execution_count": 8,
   "id": "b5af0d70",
   "metadata": {},
   "outputs": [
    {
     "name": "stdout",
     "output_type": "stream",
     "text": [
      "12 1 5.30\n",
      "14 2 5.10\n",
      "VALOR A PAGAR: R$ 15.50\n"
     ]
    }
   ],
   "source": [
    "product1 = input().split(\" \")\n",
    "product2 = input().split(\" \")\n",
    "\n",
    "code1,unit1,price1 = product1\n",
    "code2,unit2,price2 = product2\n",
    "\n",
    "unit1=int(unit1)\n",
    "unit2=int(unit2)\n",
    "price1=float(price1)\n",
    "price2=float(price2)\n",
    "\n",
    "total = (unit1*price1) + (unit2*price2)\n",
    "precised_total = \"{:.2f}\".format(total)\n",
    "print(\"VALOR A PAGAR: R$\",precised_total)"
   ]
  },
  {
   "cell_type": "markdown",
   "id": "f6b885b5",
   "metadata": {},
   "source": [
    "### Problem_1011_Sphere_solution"
   ]
  },
  {
   "cell_type": "code",
   "execution_count": 37,
   "id": "586b1036",
   "metadata": {},
   "outputs": [
    {
     "name": "stdout",
     "output_type": "stream",
     "text": [
      "1523\n",
      "VOLUME = 14797486501.627\n"
     ]
    }
   ],
   "source": [
    "radius=float(input())\n",
    "vol=(4.0/3)*3.14159*radius*radius*radius\n",
    "precised_vol=\"{:.3f}\".format(vol)\n",
    "print(\"VOLUME =\",precised_vol)"
   ]
  },
  {
   "cell_type": "markdown",
   "id": "770d9a03",
   "metadata": {},
   "source": [
    "### Problem_1012_Area_solution"
   ]
  },
  {
   "cell_type": "code",
   "execution_count": 7,
   "id": "e03ea231",
   "metadata": {},
   "outputs": [
    {
     "name": "stdout",
     "output_type": "stream",
     "text": [
      "3 4 5.2\n",
      "TRIANGULO: 7.800\n",
      "CIRCULO: 84.949\n",
      "TRAPEZIO: 18.200\n",
      "QUADRADO: 16.000\n",
      "RETANGULO: 12.000\n"
     ]
    }
   ],
   "source": [
    "abc_values = input().split(\" \")\n",
    "a,b,c = abc_values\n",
    "\n",
    "a=float(a)\n",
    "b=float(b)\n",
    "c=float(c)\n",
    "\n",
    "triangle=(1/2.0)*a*c\n",
    "circle=3.14159*c*c\n",
    "trapizium=(1/2.0)*(a+b)*c\n",
    "square=b*b\n",
    "rectangle=a*b\n",
    "\n",
    "p_triangle=\"{:.3f}\".format(triangle)\n",
    "p_circle=\"{:.3f}\".format(circle)\n",
    "p_trapizium=\"{:.3f}\".format(trapizium)\n",
    "p_square=\"{:.3f}\".format(square)\n",
    "p_rectangle=\"{:.3f}\".format(rectangle)\n",
    "\n",
    "print(\"TRIANGULO:\",p_triangle)\n",
    "print(\"CIRCULO:\",p_circle)\n",
    "print(\"TRAPEZIO:\",p_trapizium)\n",
    "print(\"QUADRADO:\",p_square)\n",
    "print(\"RETANGULO:\",p_rectangle)"
   ]
  },
  {
   "cell_type": "markdown",
   "id": "2705418a",
   "metadata": {},
   "source": [
    "### Problem_1013_The Greatest_solution"
   ]
  },
  {
   "cell_type": "code",
   "execution_count": 1,
   "id": "bc659eca",
   "metadata": {},
   "outputs": [
    {
     "name": "stdout",
     "output_type": "stream",
     "text": [
      "324 6 54\n",
      "324 eh o maior\n"
     ]
    }
   ],
   "source": [
    "a = input().split(' ')\n",
    "x,y,z=a\n",
    "x=int(x)\n",
    "y=int(y)\n",
    "z=int(z)\n",
    "\n",
    "max_num=max(x,y,z)\n",
    "print(\"{} eh o maior\".format(max_num))"
   ]
  },
  {
   "cell_type": "markdown",
   "id": "44fcdca1",
   "metadata": {},
   "source": [
    "### Problem_1014_Consumption_solution"
   ]
  },
  {
   "cell_type": "code",
   "execution_count": 3,
   "id": "ad8fa83f",
   "metadata": {},
   "outputs": [
    {
     "name": "stdout",
     "output_type": "stream",
     "text": [
      "500\n",
      "35\n",
      "14.286 km/l\n"
     ]
    }
   ],
   "source": [
    "km = int(input())\n",
    "fuel= float(input())\n",
    "\n",
    "km_per_fuel= km/fuel\n",
    "precised_km_per_fuel = \"{:.3f}\".format(km_per_fuel)\n",
    "print(precised_km_per_fuel,\"km/l\")"
   ]
  },
  {
   "cell_type": "markdown",
   "id": "124cf3b9",
   "metadata": {},
   "source": [
    "### Problem_1015_Distance Between Two Points_soution"
   ]
  },
  {
   "cell_type": "code",
   "execution_count": 4,
   "id": "416cdd6c",
   "metadata": {},
   "outputs": [
    {
     "name": "stdout",
     "output_type": "stream",
     "text": [
      "1 7\n",
      "5 9\n",
      "4.4721\n"
     ]
    }
   ],
   "source": [
    "import math \n",
    "point_a = input().split(' ')\n",
    "point_b = input().split(' ')\n",
    "x1,y1=point_a\n",
    "x2,y2=point_b\n",
    "\n",
    "x1=float(x1)\n",
    "x2=float(x2)\n",
    "y1=float(y1)\n",
    "y2=float(y2)\n",
    "distance= math.sqrt((x1-x2)*(x1-x2) + (y1-y2)*(y1-y2))\n",
    "precised_distance=\"{:.4f}\".format(distance)\n",
    "print(precised_distance)"
   ]
  },
  {
   "cell_type": "markdown",
   "id": "348f12ee",
   "metadata": {},
   "source": [
    "### Problem_1016_Distance_solution"
   ]
  },
  {
   "cell_type": "code",
   "execution_count": 5,
   "id": "59923e16",
   "metadata": {},
   "outputs": [
    {
     "name": "stdout",
     "output_type": "stream",
     "text": [
      "4\n",
      "8 minutos\n"
     ]
    }
   ],
   "source": [
    "a=int(input())\n",
    "b=a*2\n",
    "print(b,\"minutos\")"
   ]
  },
  {
   "cell_type": "markdown",
   "id": "8068d36f",
   "metadata": {},
   "source": [
    "### Problem_1017_Fuel Spent_solution"
   ]
  },
  {
   "cell_type": "code",
   "execution_count": 6,
   "id": "124615bc",
   "metadata": {},
   "outputs": [
    {
     "name": "stdout",
     "output_type": "stream",
     "text": [
      "10\n",
      "85\n",
      "70.833\n"
     ]
    }
   ],
   "source": [
    "hour=int(input())\n",
    "speed=int(input())\n",
    "\n",
    "distance_travelled= hour * speed\n",
    "fuel_needed=distance_travelled / 12\n",
    "precised_fuel_needed=\"{:.3f}\".format(fuel_needed)\n",
    "print(precised_fuel_needed)"
   ]
  },
  {
   "cell_type": "markdown",
   "id": "9a5e738e",
   "metadata": {},
   "source": [
    "### Problem_1018_Banknotes_soution"
   ]
  },
  {
   "cell_type": "code",
   "execution_count": 8,
   "id": "c2e04c78",
   "metadata": {},
   "outputs": [
    {
     "name": "stdout",
     "output_type": "stream",
     "text": [
      "11257\n",
      "11257\n",
      "112 nota(s) de R$ 100,00\n",
      "1 nota(s) de R$ 50,00\n",
      "0 nota(s) de R$ 20,00\n",
      "0 nota(s) de R$ 10,00\n",
      "1 nota(s) de R$ 5,00\n",
      "1 nota(s) de R$ 2,00\n",
      "0 nota(s) de R$ 1,00\n"
     ]
    }
   ],
   "source": [
    "a=int(input())\n",
    "x=a//100\n",
    "y=(a%100)//50\n",
    "z=((a%100)%50)//20\n",
    "p=(((a%100)%50)%20)//10\n",
    "q=((((a%100)%50)%20)%10)//5\n",
    "m=(((((a%100)%50)%20)%10)%5)//2\n",
    "n=(((((a%100)%50)%20)%10)%5)%2\n",
    "\n",
    "print(a)\n",
    "print(x,\"nota(s) de R$ 100,00\")\n",
    "print(y,\"nota(s) de R$ 50,00\")\n",
    "print(z,\"nota(s) de R$ 20,00\")\n",
    "print(p,\"nota(s) de R$ 10,00\")\n",
    "print(q,\"nota(s) de R$ 5,00\")\n",
    "print(m,\"nota(s) de R$ 2,00\")\n",
    "print(n,\"nota(s) de R$ 1,00\")"
   ]
  },
  {
   "cell_type": "markdown",
   "id": "471eacd5",
   "metadata": {},
   "source": [
    "### Problem_1019_Time Conversion_solution"
   ]
  },
  {
   "cell_type": "code",
   "execution_count": 9,
   "id": "56ce4bab",
   "metadata": {},
   "outputs": [
    {
     "name": "stdout",
     "output_type": "stream",
     "text": [
      "140153\n",
      "38:55:53\n"
     ]
    }
   ],
   "source": [
    "sec = int(input())\n",
    "min = sec//60\n",
    "remain_sec = sec%60\n",
    "hour = min//60\n",
    "remain_min= min%60\n",
    "print(\"{}:{}:{}\".format(hour,remain_min,remain_sec))"
   ]
  },
  {
   "cell_type": "markdown",
   "id": "b78d67a4",
   "metadata": {},
   "source": [
    "### Problem_1020_Age in Days_solution"
   ]
  },
  {
   "cell_type": "code",
   "execution_count": 10,
   "id": "6553b390",
   "metadata": {},
   "outputs": [
    {
     "name": "stdout",
     "output_type": "stream",
     "text": [
      "800\n",
      "2 ano(s)\n",
      "2 mes(es)\n",
      "10 dia(s)\n"
     ]
    }
   ],
   "source": [
    "days = int(input())\n",
    "\n",
    "year=days//365\n",
    "remain_days = days%365\n",
    "month = remain_days//30\n",
    "remain_days_2 = remain_days%30\n",
    "print(year,\"ano(s)\")\n",
    "print(month,\"mes(es)\")\n",
    "print(remain_days_2,\"dia(s)\")"
   ]
  },
  {
   "cell_type": "markdown",
   "id": "a8da7d8e",
   "metadata": {},
   "source": [
    "### Problem_1021_Banknotes and Coins_solution"
   ]
  },
  {
   "cell_type": "code",
   "execution_count": 6,
   "id": "e824f1a7",
   "metadata": {},
   "outputs": [
    {
     "name": "stdout",
     "output_type": "stream",
     "text": [
      "576.73\n",
      "NOTAS:\n",
      "5 nota(s) de R$ 100.00\n",
      "1 nota(s) de R$ 50.00\n",
      "1 nota(s) de R$ 20.00\n",
      "0 nota(s) de R$ 10.00\n",
      "1 nota(s) de R$ 5.00\n",
      "0 nota(s) de R$ 2.00\n",
      "MOEDAS:\n",
      "1 moeda(s) de R$ 1.00\n",
      "1 moeda(s) de R$ 0.50\n",
      "0 moeda(s) de R$ 0.25\n",
      "2 moeda(s) de R$ 0.10\n",
      "0 moeda(s) de R$ 0.05\n",
      "3 moeda(s) de R$ 0.01\n"
     ]
    }
   ],
   "source": [
    "money=float(input())\n",
    "note=money\n",
    "note_100=note/100\n",
    "note_50=(note%100)/50\n",
    "note_20=((note%100)%50)/20\n",
    "note_10=(((note%100)%50)%20)/10\n",
    "note_5=((((note%100)%50)%20)%10)/5\n",
    "note_2=(((((note%100)%50)%20)%10)%5)/2\n",
    "\n",
    "print(\"NOTAS:\")\n",
    "print(f\"{int(note_100)} nota(s) de R$ 100.00\")\n",
    "print(f\"{int(note_50)} nota(s) de R$ 50.00\")\n",
    "print(f\"{int(note_20)} nota(s) de R$ 20.00\")\n",
    "print(f\"{int(note_10)} nota(s) de R$ 10.00\")\n",
    "print(f\"{int(note_5)} nota(s) de R$ 5.00\")\n",
    "print(f\"{int(note_2)} nota(s) de R$ 2.00\")\n",
    "\n",
    "coin_1=(((((note%100)%50)%20)%10)%5)%2\n",
    "coin=money*100\n",
    "coin=(int(coin))\n",
    "coin_50=(coin%100)/50\n",
    "coin_25=((coin%100)%50)/25\n",
    "coin_10=(((coin%100)%50)%25)/10\n",
    "coin_05=((((coin%100)%50)%25)%10)/5\n",
    "coin_01=((((coin%100)%50)%25)%10)%5\n",
    "\n",
    "print(f\"MOEDAS:\")\n",
    "print(f\"{int(coin_1)} moeda(s) de R$ 1.00\")\n",
    "print(f\"{int(coin_50)} moeda(s) de R$ 0.50\")\n",
    "print(f\"{int(coin_25)} moeda(s) de R$ 0.25\")\n",
    "print(f\"{int(coin_10)} moeda(s) de R$ 0.10\")\n",
    "print(f\"{int(coin_05)} moeda(s) de R$ 0.05\")\n",
    "print(f\"{int(coin_01)} moeda(s) de R$ 0.01\")"
   ]
  },
  {
   "cell_type": "markdown",
   "id": "21d342b1",
   "metadata": {},
   "source": [
    "### Problem_1035_Selection Test 1_solution"
   ]
  },
  {
   "cell_type": "code",
   "execution_count": 11,
   "id": "9dde3859",
   "metadata": {},
   "outputs": [
    {
     "name": "stdout",
     "output_type": "stream",
     "text": [
      "2 3 2 6\n",
      "Valores aceitos\n"
     ]
    }
   ],
   "source": [
    "input_value = input().split(' ')\n",
    "a,b,c,d=input_value\n",
    "a=int(a)\n",
    "b=int(b)\n",
    "c=int(c)\n",
    "d=int(d)\n",
    "\n",
    "if((b>c) and (d>a) and ((c+d)>(a+b)) and ((c>0) and (d>0)) and ((a%2)==0)):\n",
    "    print(\"Valores aceitos\")\n",
    "else :\n",
    "    print(\"Valores nao aceitos\")      "
   ]
  },
  {
   "cell_type": "markdown",
   "id": "cbf22a97",
   "metadata": {},
   "source": [
    "### Problem_1036_Bhaskara's Formula_solution"
   ]
  },
  {
   "cell_type": "code",
   "execution_count": 1,
   "id": "f0435efc",
   "metadata": {},
   "outputs": [
    {
     "name": "stdout",
     "output_type": "stream",
     "text": [
      "10.0 20.1 5.1\n",
      "R1 = -0.29788\n",
      "R2 = -1.71212\n"
     ]
    }
   ],
   "source": [
    "import math\n",
    "input_value = input().split(' ')\n",
    "a,b,c=input_value\n",
    "a=float(a)\n",
    "b=float(b)\n",
    "c=float(c)\n",
    "\n",
    "d=b*b-4*a*c\n",
    "\n",
    "if((d<0) or (a==0)):\n",
    "    print(\"Impossivel calcular\")\n",
    "else :\n",
    "    d=math.sqrt(d)\n",
    "    root_1=(-b+d)/(2*a)\n",
    "    root_2=(-b-d)/(2*a)\n",
    "    precised_root1=\"{:.5f}\".format(root_1)\n",
    "    precised_root2=\"{:.5f}\".format(root_2)\n",
    "    print(\"R1 =\",precised_root1)\n",
    "    print(\"R2 =\",precised_root2)"
   ]
  },
  {
   "cell_type": "markdown",
   "id": "9ae41df4",
   "metadata": {},
   "source": [
    "### Problem_1037_Interval_solution"
   ]
  },
  {
   "cell_type": "code",
   "execution_count": 2,
   "id": "79bc9d4a",
   "metadata": {},
   "outputs": [
    {
     "name": "stdout",
     "output_type": "stream",
     "text": [
      "75\n",
      "Intervalo (50,75]\n"
     ]
    }
   ],
   "source": [
    "p = float(input())\n",
    "\n",
    "if(p>=0) and (p<=25):\n",
    "    print(\"Intervalo [0,25]\")\n",
    "elif(p>25) and (p<=50):\n",
    "    print(\"Intervalo (25,50]\")\n",
    "elif(p>50) and (p<=75):\n",
    "    print(\"Intervalo (50,75]\")\n",
    "elif(p>75) and (p<=100):\n",
    "    print(\"Intervalo (75,100]\")\n",
    "else:\n",
    "    print(\"Fora de intervalo\")"
   ]
  }
 ],
 "metadata": {
  "kernelspec": {
   "display_name": "Python 3 (ipykernel)",
   "language": "python",
   "name": "python3"
  },
  "language_info": {
   "codemirror_mode": {
    "name": "ipython",
    "version": 3
   },
   "file_extension": ".py",
   "mimetype": "text/x-python",
   "name": "python",
   "nbconvert_exporter": "python",
   "pygments_lexer": "ipython3",
   "version": "3.9.7"
  }
 },
 "nbformat": 4,
 "nbformat_minor": 5
}

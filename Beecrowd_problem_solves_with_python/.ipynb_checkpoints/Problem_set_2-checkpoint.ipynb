{
 "cells": [
  {
   "cell_type": "markdown",
   "id": "b1b9a2ee",
   "metadata": {},
   "source": [
    "# User name : anchowdhury1"
   ]
  },
  {
   "cell_type": "markdown",
   "id": "9013410a",
   "metadata": {},
   "source": [
    "## Problem Set 2 - https://www.beecrowd.com.br/judge/en/problems/index/1?page=2"
   ]
  },
  {
   "cell_type": "markdown",
   "id": "410e8559",
   "metadata": {},
   "source": [
    "### Problem_1038_Snack_solution"
   ]
  },
  {
   "cell_type": "code",
   "execution_count": 9,
   "id": "dd39aa8e",
   "metadata": {},
   "outputs": [
    {
     "name": "stdout",
     "output_type": "stream",
     "text": [
      "3 3\n",
      "Total: R$ 15.00\n"
     ]
    }
   ],
   "source": [
    "input_value = input().split(' ')\n",
    "a,b= input_value\n",
    "a=int(a)\n",
    "b=int(b)\n",
    "if(a==1) : \n",
    "    x=b*4.00\n",
    "elif(a==2) :\n",
    "    x=b*4.50\n",
    "elif(a==3) :\n",
    "    x=b*5.00\n",
    "elif(a==4) :\n",
    "    x=b*2.00\n",
    "elif(a==5) :\n",
    "    x=b*1.50\n",
    "\n",
    "precised_x=\"{:.2f}\".format(x)\n",
    "print(\"Total: R$\",precised_x)"
   ]
  },
  {
   "cell_type": "markdown",
   "id": "e82fe3db",
   "metadata": {},
   "source": [
    "### Problem_1040_Average 3_solution"
   ]
  },
  {
   "cell_type": "code",
   "execution_count": 90,
   "id": "6dd4a653",
   "metadata": {},
   "outputs": [
    {
     "name": "stdout",
     "output_type": "stream",
     "text": [
      "2.0 4.0 7.5 8.0\n",
      "Media: 5.4\n",
      "Aluno em exame.\n",
      "6.4\n",
      "Nota do exame: 6.4\n",
      "Aluno aprovado.\n",
      "Media final: 5.9\n"
     ]
    }
   ],
   "source": [
    "input_value = input().split(' ')\n",
    "a,b,c,d= input_value\n",
    "a=float(a)\n",
    "b=float(b)\n",
    "c=float(c)\n",
    "d=float(d)\n",
    "\n",
    "\n",
    "f=((a*2)+(b*3)+(c*4)+(d*1))/10\n",
    "p_f=\"{:.1f}\".format(f)\n",
    "print(\"Media: {}\".format(p_f))\n",
    "if(f>=7.0):\n",
    "    print(\"Aluno aprovado.\")\n",
    "    \n",
    "    \n",
    "if((f>=5.0) and (f<7.0)):\n",
    "    print(\"Aluno em exame.\")\n",
    "    e=float(input())\n",
    "    g=(f+e)/2.0\n",
    "    if(g>=5.0):\n",
    "        print(\"Nota do exame: {}\\nAluno aprovado.\\nMedia final: {}\".format(e,g))\n",
    "    if(g<5.0):        \n",
    "        print(\"Nota do exame: {}\\nAluno reprovado.\\nMedia final: {}\".format(e,g))     \n",
    "        \n",
    "        \n",
    "if(f<5.0):\n",
    "    print(\"Aluno reprovado.\")"
   ]
  },
  {
   "cell_type": "markdown",
   "id": "c9fd8000",
   "metadata": {},
   "source": [
    "### Problem_1041_Coordinates of a point_solution"
   ]
  },
  {
   "cell_type": "code",
   "execution_count": 14,
   "id": "d0299db1",
   "metadata": {},
   "outputs": [
    {
     "name": "stdout",
     "output_type": "stream",
     "text": [
      "4.2 -2.2\n",
      "Q4\n"
     ]
    }
   ],
   "source": [
    "input_value = input().split(' ')\n",
    "a,b= input_value\n",
    "a=float(a)\n",
    "b=float(b)\n",
    "\n",
    "if((a>0) and (b>0)) :\n",
    "    print(\"Q1\")\n",
    "if((a<0) and (b>0)) :\n",
    "    print(\"Q2\")    \n",
    "if((a<0) and (b<0)) :\n",
    "    print(\"Q3\")    \n",
    "if((a>0) and (b<0)) :\n",
    "    print(\"Q4\")\n",
    "if((a==0) and (b==0)) :    \n",
    "    print(\"Origem\")\n",
    "if((a==0) and (b!=0)) :\n",
    "    print(\"Eixo Y\")\n",
    "if((a!=0) and (b==0)) :    \n",
    "    print(\"Eixo X\")     "
   ]
  },
  {
   "cell_type": "markdown",
   "id": "a377f298",
   "metadata": {},
   "source": [
    "### Problem_1042_Simple sort_solution"
   ]
  },
  {
   "cell_type": "code",
   "execution_count": 17,
   "id": "8ef9c151",
   "metadata": {},
   "outputs": [
    {
     "name": "stdout",
     "output_type": "stream",
     "text": [
      "4 -5 6\n",
      "-5\n",
      "4\n",
      "6\n",
      "\n",
      "4\n",
      "-5\n",
      "6\n"
     ]
    }
   ],
   "source": [
    "input_value = input().split(' ')\n",
    "a,b,c= input_value\n",
    "a=int(a)\n",
    "b=int(b)\n",
    "c=int(c)\n",
    "\n",
    "list_3num = []\n",
    "list_3num.append(a) \n",
    "list_3num.append(b) \n",
    "list_3num.append(c) \n",
    "\n",
    "list_3num.sort(key=None, reverse=False) \n",
    "for i in list_3num:\n",
    "    print(i) \n",
    "print('')\n",
    "print(a)\n",
    "print(b)\n",
    "print(c)"
   ]
  },
  {
   "cell_type": "markdown",
   "id": "8a24356c",
   "metadata": {},
   "source": [
    "### Problem_1043_Triangle_solution"
   ]
  },
  {
   "cell_type": "code",
   "execution_count": 21,
   "id": "ddbb2509",
   "metadata": {},
   "outputs": [
    {
     "name": "stdout",
     "output_type": "stream",
     "text": [
      "6.0 4.0 2.1\n",
      "Perimetro = 12.1\n"
     ]
    }
   ],
   "source": [
    "line_input = input().split(' ')\n",
    "a,b,c= line_input\n",
    "a=float(a)\n",
    "b=float(b)\n",
    "c=float(c)\n",
    "if((a+b>c) and (b+c>a) and (c+a>b)):\n",
    "    p=\"{:.1f}\".format(a+b+c)\n",
    "    print(\"Perimetro =\",(p))\n",
    "else:\n",
    "    d=(1/2.0)*(a+b)*c\n",
    "    p_d=\"{:.1f}\".format(d)\n",
    "    print(\"Area =\",p_d)"
   ]
  },
  {
   "cell_type": "markdown",
   "id": "7b63575d",
   "metadata": {},
   "source": [
    "### Problem_1044_Multiples_solution"
   ]
  },
  {
   "cell_type": "code",
   "execution_count": 23,
   "id": "6747a9ac",
   "metadata": {},
   "outputs": [
    {
     "name": "stdout",
     "output_type": "stream",
     "text": [
      "6 24\n",
      "Sao Multiplos\n"
     ]
    }
   ],
   "source": [
    "nums = input().split(' ')\n",
    "a,b= nums\n",
    "a=int(a)\n",
    "b=int(b)\n",
    "if(a%b==0 or b%a==0):\n",
    "    print(\"Sao Multiplos\")\n",
    "else :\n",
    "    print(\"Nao sao Multiplos\")"
   ]
  },
  {
   "cell_type": "markdown",
   "id": "b07a0a52",
   "metadata": {},
   "source": [
    "### Problem_1045_Triangle Types_solution"
   ]
  },
  {
   "cell_type": "code",
   "execution_count": 91,
   "id": "5870456f",
   "metadata": {},
   "outputs": [
    {
     "name": "stdout",
     "output_type": "stream",
     "text": [
      "4.5 2.0 2.0\n",
      "NAO FORMA TRIANGULO\n",
      "TRIANGULO ISOSCELES\n"
     ]
    }
   ],
   "source": [
    "input_value=input().split(' ')\n",
    "a,b,c=input_value\n",
    "a=float(a)\n",
    "b=float(b)\n",
    "c=float(c)\n",
    "if(a < b):\n",
    "    temp = a\n",
    "    a = b\n",
    "    b = temp\n",
    "if(b < c):\n",
    "    temp = b\n",
    "    b = c\n",
    "    c = temp\n",
    "if(a < b):\n",
    "    temp = a\n",
    "    a = b\n",
    "    b = temp\n",
    "if(a>=(b+c)):\n",
    "    print(\"NAO FORMA TRIANGULO\")\n",
    "elif(a*a == (b*b+c*c)):\n",
    "     print(\"TRIANGULO RETANGULO\")\n",
    "elif(a * a > (b*b+ c*c)):\n",
    "    print(\"TRIANGULO OBTUSANGULO\")\n",
    "elif(a*a<(b*b + c*c)):\n",
    "    print(\"TRIANGULO ACUTANGULO\")\n",
    "if(a == b and b == c):\n",
    "        print(\"TRIANGULO EQUILATERO\")\n",
    "elif(a == b or b == c):\n",
    "        print(\"TRIANGULO ISOSCELES\")"
   ]
  },
  {
   "cell_type": "markdown",
   "id": "e5b0049c",
   "metadata": {},
   "source": [
    "### Problem_1046_Game time_solution"
   ]
  },
  {
   "cell_type": "code",
   "execution_count": 28,
   "id": "fa5a7540",
   "metadata": {},
   "outputs": [
    {
     "name": "stdout",
     "output_type": "stream",
     "text": [
      "16 2\n",
      "O JOGO DUROU 10 HORA(S)\n"
     ]
    }
   ],
   "source": [
    "hour = input().split(' ')\n",
    "s,e = hour\n",
    "s=int(s)\n",
    "e=int(e)\n",
    "\n",
    "if(s==e):\n",
    "    print(\"O JOGO DUROU 24 HORA(S)\")\n",
    "elif(s>e):\n",
    "    duration=24-s+e\n",
    "    print(\"O JOGO DUROU {} HORA(S)\".format(duration))\n",
    "else:\n",
    "    duration=e-s\n",
    "    print(\"O JOGO DUROU {} HORA(S)\".format(duration))"
   ]
  },
  {
   "cell_type": "markdown",
   "id": "1a39890c",
   "metadata": {},
   "source": [
    "### Problem_1047_Game time with minutes_solution"
   ]
  },
  {
   "cell_type": "code",
   "execution_count": 5,
   "id": "86512cb6",
   "metadata": {},
   "outputs": [
    {
     "name": "stdout",
     "output_type": "stream",
     "text": [
      "7 7 7 7\n",
      "O JOGO DUROU 24 HORA(S) E 0 MINUTO(S)\n"
     ]
    }
   ],
   "source": [
    "input_value=input().split(' ')\n",
    "a,b,c,d=input_value\n",
    "a=int(a)\n",
    "b=int(b)\n",
    "c=int(c)\n",
    "d=int(d)\n",
    "\n",
    "dif=((c*60)+d)-((a*60)+b)\n",
    "if(dif<=0):\n",
    "    dif+=24*60\n",
    "    \n",
    "hour=dif//60\n",
    "minute=dif%60\n",
    "print(f\"O JOGO DUROU {hour} HORA(S) E {minute} MINUTO(S)\")"
   ]
  },
  {
   "cell_type": "markdown",
   "id": "74286e96",
   "metadata": {},
   "source": [
    "### Problem_1048_Salary Increase_solution"
   ]
  },
  {
   "cell_type": "code",
   "execution_count": 86,
   "id": "9b8b5b10",
   "metadata": {},
   "outputs": [
    {
     "name": "stdout",
     "output_type": "stream",
     "text": [
      "2000.00\n",
      "Novo salario: 2140.00\n",
      "Reajuste ganho: 140.00\n",
      "Em percentual: 7 %\n"
     ]
    }
   ],
   "source": [
    "s = float(input())\n",
    "if(s>=0 and s<=400):\n",
    "    r=s*0.15\n",
    "    total=s+r\n",
    "    p_r=\"{:.2f}\".format(r)\n",
    "    p_total=\"{:.2f}\".format(total)\n",
    "    print(\"Novo salario: {}\".format(p_total))\n",
    "    print(\"Reajuste ganho: {}\".format(p_r))\n",
    "    print(\"Em percentual: 15 %\")\n",
    "\n",
    "if(s>400.00 and s<=800.00):\n",
    "    r=s*0.12\n",
    "    total=s+r\n",
    "    p_r=\"{:.2f}\".format(r)\n",
    "    p_total=\"{:.2f}\".format(total)\n",
    "    print(\"Novo salario: {}\".format(p_total))\n",
    "    print(\"Reajuste ganho: {}\".format(p_r))\n",
    "    print(\"Em percentual: 12 %\")\n",
    "    \n",
    "if(s>800.00 and s<=1200.00):\n",
    "    r=s*0.10\n",
    "    total=s+r\n",
    "    p_r=\"{:.2f}\".format(r)\n",
    "    p_total=\"{:.2f}\".format(total)\n",
    "    print(\"Novo salario: {}\".format(p_total))\n",
    "    print(\"Reajuste ganho: {}\".format(p_r))\n",
    "    print(\"Em percentual: 10 %\")\n",
    "    \n",
    "if(s>1200.00 and s<=2000.00):\n",
    "    r=s*0.07\n",
    "    total=s+r\n",
    "    p_r=\"{:.2f}\".format(r)\n",
    "    p_total=\"{:.2f}\".format(total)\n",
    "    print(\"Novo salario: {}\".format(p_total))\n",
    "    print(\"Reajuste ganho: {}\".format(p_r))\n",
    "    print(\"Em percentual: 7 %\")\n",
    "\n",
    "if(s>2000):\n",
    "    r=s*0.04\n",
    "    total=s+r\n",
    "    p_r=\"{:.2f}\".format(r)\n",
    "    p_total=\"{:.2f}\".format(total)\n",
    "    print(\"Novo salario: {}\".format(p_total))\n",
    "    print(\"Reajuste ganho: {}\".format(p_r))\n",
    "    print(\"Em percentual: 4 %\")"
   ]
  },
  {
   "cell_type": "markdown",
   "id": "48903687",
   "metadata": {},
   "source": [
    "### Problem_1049_Animal_solution"
   ]
  },
  {
   "cell_type": "code",
   "execution_count": 88,
   "id": "c15207ae",
   "metadata": {},
   "outputs": [
    {
     "name": "stdout",
     "output_type": "stream",
     "text": [
      "vertebrado\n",
      "mamifero\n",
      "herbivoro\n",
      "vaca\n"
     ]
    }
   ],
   "source": [
    "x=input()\n",
    "y=input()\n",
    "z=input()\n",
    "\n",
    "if (x=='vertebrado' and y=='ave' and z=='carnivoro'):\n",
    "    animal = 'aguia'\n",
    "if (x=='vertebrado' and y=='ave' and z=='onivoro'):\n",
    "    animal = 'pomba'\n",
    "if (x=='vertebrado' and y=='mamifero' and z=='onivoro'):\n",
    "    animal = 'homem'\n",
    "if (x=='vertebrado' and y=='mamifero' and z=='herbivoro'):\n",
    "    animal = 'vaca'\n",
    "if (x=='invertebrado' and y=='inseto' and z=='hematofago'):\n",
    "    animal = 'pulga'\n",
    "if (x=='invertebrado' and y=='inseto' and z=='herbivoro'):\n",
    "    animal = 'lagarta'\n",
    "if (x=='invertebrado' and y=='anelideo' and z=='hematofago'):\n",
    "    animal = 'sanguessuga'\n",
    "if (x=='invertebrado' and y=='anelideo' and z=='onivoro'):\n",
    "    animal = 'minhoca'\n",
    "\n",
    "print(animal)"
   ]
  },
  {
   "cell_type": "markdown",
   "id": "dd7915fd",
   "metadata": {},
   "source": [
    "### Problem_1050_DDD_solution"
   ]
  },
  {
   "cell_type": "code",
   "execution_count": 78,
   "id": "d1c1dcd3",
   "metadata": {},
   "outputs": [
    {
     "name": "stdout",
     "output_type": "stream",
     "text": [
      "61\n",
      "Brasilia\n"
     ]
    }
   ],
   "source": [
    "destination = {61:\"Brasilia\", 71:\"Salvador\",11:\"Sao Paulo\",21:\"Rio de Janeiro\",32:\"Juiz de Fora\",19:\"Campinas\",\n",
    "               27:\"Vitoria\",31:\"Belo Horizonte\"}\n",
    "\n",
    "a=int(input())\n",
    "if(a in destination):  \n",
    "    print(destination[a])\n",
    "else :\n",
    "    print(\"DDD nao cadastrado\")"
   ]
  },
  {
   "cell_type": "markdown",
   "id": "c6575770",
   "metadata": {},
   "source": [
    "### Problem_1051_Taxes_solution"
   ]
  },
  {
   "cell_type": "code",
   "execution_count": 71,
   "id": "735c5d38",
   "metadata": {},
   "outputs": [
    {
     "name": "stdout",
     "output_type": "stream",
     "text": [
      "4520.00\n",
      "R$ 355.60\n"
     ]
    }
   ],
   "source": [
    "earning = float(input())\n",
    "if(earning>=0.00 and earning<=2000.00):\n",
    "    print(\"Isento\")\n",
    "    \n",
    "if(earning>2000.00 and earning<=3000.00):\n",
    "    taxed_money=earning-2000.00\n",
    "    tax=taxed_money*0.08\n",
    "    p_tax=\"{:.2f}\".format(tax)\n",
    "    print(\"R$ {}\".format(p_tax))\n",
    "\n",
    "if(earning>3000.00 and earning<=4500.00):\n",
    "    taxed_money=earning-3000.00\n",
    "    tax=80+taxed_money*0.18\n",
    "    p_tax=\"{:.2f}\".format(tax)\n",
    "    print(\"R$ {}\".format(p_tax))\n",
    "    \n",
    "if(earning>4500.00):\n",
    "    taxed_money=earning-4500.00\n",
    "    tax=350+taxed_money*0.28\n",
    "    p_tax=\"{:.2f}\".format(tax)\n",
    "    print(\"R$ {}\".format(p_tax))"
   ]
  },
  {
   "cell_type": "markdown",
   "id": "926622f9",
   "metadata": {},
   "source": [
    "### Problem_1052_Month_solution"
   ]
  },
  {
   "cell_type": "code",
   "execution_count": 66,
   "id": "87f3abf6",
   "metadata": {},
   "outputs": [
    {
     "name": "stdout",
     "output_type": "stream",
     "text": [
      "4\n",
      "April\n"
     ]
    }
   ],
   "source": [
    "months = {1:\"January\", 2:\"February\",3:\"March\",4:\"April\",5:\"May\",6:\"June\",7:\"July\",8:\"August\",\n",
    "          9:\"September\",10:\"October\",11:\"November\",12:\"December\"}\n",
    "\n",
    "a=int(input())\n",
    "print(months[a])"
   ]
  },
  {
   "cell_type": "markdown",
   "id": "73135f97",
   "metadata": {},
   "source": [
    "### Problem_1059_Even numbers_solution"
   ]
  },
  {
   "cell_type": "code",
   "execution_count": 65,
   "id": "cb0edba9",
   "metadata": {},
   "outputs": [
    {
     "name": "stdout",
     "output_type": "stream",
     "text": [
      "2\n",
      "4\n",
      "6\n",
      "8\n",
      "10\n",
      "12\n",
      "14\n",
      "16\n",
      "18\n",
      "20\n",
      "22\n",
      "24\n",
      "26\n",
      "28\n",
      "30\n",
      "32\n",
      "34\n",
      "36\n",
      "38\n",
      "40\n",
      "42\n",
      "44\n",
      "46\n",
      "48\n",
      "50\n",
      "52\n",
      "54\n",
      "56\n",
      "58\n",
      "60\n",
      "62\n",
      "64\n",
      "66\n",
      "68\n",
      "70\n",
      "72\n",
      "74\n",
      "76\n",
      "78\n",
      "80\n",
      "82\n",
      "84\n",
      "86\n",
      "88\n",
      "90\n",
      "92\n",
      "94\n",
      "96\n",
      "98\n",
      "100\n"
     ]
    }
   ],
   "source": [
    "for i in range (1,101):\n",
    "    if(i%2==0):\n",
    "        print(i)"
   ]
  },
  {
   "cell_type": "markdown",
   "id": "8e3469ec",
   "metadata": {},
   "source": [
    "### Problem_1060_Positive numbers_solution"
   ]
  },
  {
   "cell_type": "code",
   "execution_count": 64,
   "id": "76ce9e80",
   "metadata": {},
   "outputs": [
    {
     "name": "stdout",
     "output_type": "stream",
     "text": [
      "4\n",
      "-2\n",
      "-3\n",
      "2\n",
      "2\n",
      "1\n",
      "4 valores positivos\n"
     ]
    }
   ],
   "source": [
    "pos=0\n",
    "for i in range (1,7):\n",
    "    a=float(input())\n",
    "    if(a>0):\n",
    "        pos+=1\n",
    "\n",
    "print(\"{} valores positivos\".format(pos))"
   ]
  },
  {
   "cell_type": "markdown",
   "id": "2c7a822c",
   "metadata": {},
   "source": [
    "### Problem_1061_Event times_solution"
   ]
  },
  {
   "cell_type": "code",
   "execution_count": 14,
   "id": "3a319bbe",
   "metadata": {},
   "outputs": [
    {
     "name": "stdout",
     "output_type": "stream",
     "text": [
      "Dia 5\n",
      "08 : 12 : 23\n",
      "Dia 9\n",
      "6 : 13 : 23\n",
      "3 dia(s)\n",
      "22 hora(s)\n",
      "1 minuto(s)\n",
      "0 segundo(s)\n"
     ]
    }
   ],
   "source": [
    "Dia,date1=input().split(' ')\n",
    "date1=int(date1)\n",
    "h1,m1,s1=map(int,input().split(\":\"))\n",
    "\n",
    "Dia,date2=input().split(' ')\n",
    "date2=int(date2)\n",
    "h2,m2,s2=map(int,input().split(\":\"))\n",
    "\n",
    "s = s2 - s1\n",
    "m = m2 - m1\n",
    "h = h2 - h1\n",
    "d = date2 - date1\n",
    "\n",
    "if(s<0):\n",
    "    s+=60\n",
    "    m-=1\n",
    "\n",
    "if(m<0):\n",
    "    m+=60\n",
    "    h-=1\n",
    "\n",
    "if(h<0):\n",
    "    h+=24\n",
    "    d-=1\n",
    "\n",
    "print(f\"{d} dia(s)\")\n",
    "print(f\"{h} hora(s)\")\n",
    "print(f\"{m} minuto(s)\")\n",
    "print(f\"{s} segundo(s)\")"
   ]
  },
  {
   "cell_type": "markdown",
   "id": "6b1c6e69",
   "metadata": {},
   "source": [
    "### Problem_1064_Positives and average_solution"
   ]
  },
  {
   "cell_type": "code",
   "execution_count": 63,
   "id": "a0eb6c90",
   "metadata": {},
   "outputs": [
    {
     "name": "stdout",
     "output_type": "stream",
     "text": [
      "7\n",
      "-3\n",
      "-3\n",
      "-2\n",
      "7\n",
      "7\n",
      "3 valores positivos\n",
      "7.0\n"
     ]
    }
   ],
   "source": [
    "pos=0\n",
    "total=0\n",
    "for i in range (1,7):\n",
    "    a=float(input())\n",
    "    if(a>0):\n",
    "        pos+=1\n",
    "        total+=a\n",
    "\n",
    "pre_total=\"{:.1f}\".format(total/pos)\n",
    "print(\"{} valores positivos\".format(pos))\n",
    "print(pre_total)"
   ]
  },
  {
   "cell_type": "markdown",
   "id": "dfc76e1a",
   "metadata": {},
   "source": [
    "### Problem_1065_Even between five numbers_solution"
   ]
  },
  {
   "cell_type": "code",
   "execution_count": 60,
   "id": "9e705784",
   "metadata": {},
   "outputs": [
    {
     "name": "stdout",
     "output_type": "stream",
     "text": [
      "6\n",
      "3\n",
      "5\n",
      "2\n",
      "9\n",
      "2 valores pares\n"
     ]
    }
   ],
   "source": [
    "even =0 \n",
    "for i in range (1,6):\n",
    "    a=int(input())\n",
    "    if(a%2==0):\n",
    "        even+=1\n",
    "\n",
    "print(\"{} valores pares\".format(even))"
   ]
  },
  {
   "cell_type": "markdown",
   "id": "d3387aa1",
   "metadata": {},
   "source": [
    "### Problem_1066_Even , odd, positive and negative_solution"
   ]
  },
  {
   "cell_type": "code",
   "execution_count": 92,
   "id": "4d5567d6",
   "metadata": {},
   "outputs": [
    {
     "name": "stdout",
     "output_type": "stream",
     "text": [
      "4\n",
      "-3\n",
      "2\n",
      "-4\n",
      "12\n",
      "4 valor(es) par(es)\n",
      "1 valor(es) impar(es)\n",
      "3 valor(es) positivo(s)\n",
      "2 valor(es) negativo(s)\n"
     ]
    }
   ],
   "source": [
    "even=0 \n",
    "odd=0\n",
    "pos=0\n",
    "neg=0\n",
    "\n",
    "for i in range(5):\n",
    "    n=float(input())\n",
    "    if(n%2==0):\n",
    "         even=even+1\n",
    "    else:\n",
    "        odd=odd+1\n",
    "    if(n>0):\n",
    "        pos=pos+1\n",
    "    elif(n<0):\n",
    "        neg=neg+1\n",
    "        \n",
    "print(f\"{even} valor(es) par(es)\")\n",
    "print(f\"{odd} valor(es) impar(es)\")\n",
    "print(f\"{pos} valor(es) positivo(s)\")\n",
    "print(f\"{neg} valor(es) negativo(s)\")"
   ]
  },
  {
   "cell_type": "markdown",
   "id": "afbff5b9",
   "metadata": {},
   "source": [
    "### Problem_1067_Odd numbers_solution"
   ]
  },
  {
   "cell_type": "code",
   "execution_count": 50,
   "id": "55e6afbd",
   "metadata": {},
   "outputs": [
    {
     "name": "stdout",
     "output_type": "stream",
     "text": [
      "8\n",
      "1\n",
      "3\n",
      "5\n",
      "7\n"
     ]
    }
   ],
   "source": [
    "x= int(input())\n",
    "for i in range(1,x+1):\n",
    "    if(i%2==1):\n",
    "        print(i)"
   ]
  },
  {
   "cell_type": "markdown",
   "id": "568ca19c",
   "metadata": {},
   "source": [
    "### Problem_1070_Six odd numbers_solution"
   ]
  },
  {
   "cell_type": "code",
   "execution_count": 46,
   "id": "de34978e",
   "metadata": {},
   "outputs": [
    {
     "name": "stdout",
     "output_type": "stream",
     "text": [
      "6\n",
      "7\n",
      "9\n",
      "11\n",
      "13\n",
      "15\n",
      "17\n"
     ]
    }
   ],
   "source": [
    "a= int(input())\n",
    "for i in range(a,a+12):\n",
    "    if(i%2==1):\n",
    "        print(i)"
   ]
  },
  {
   "cell_type": "markdown",
   "id": "1ff74956",
   "metadata": {},
   "source": [
    "### Problem_1071_Sum of consecutive odd numbers 1_solution"
   ]
  },
  {
   "cell_type": "code",
   "execution_count": 42,
   "id": "b85de3d3",
   "metadata": {},
   "outputs": [
    {
     "name": "stdout",
     "output_type": "stream",
     "text": [
      "15\n",
      "12\n",
      "13\n"
     ]
    }
   ],
   "source": [
    "a1= int(input())\n",
    "a2= int(input())\n",
    "total=0\n",
    "if(a2<a1):\n",
    "    temp=a1\n",
    "    a1=a2\n",
    "    a2=temp\n",
    "    \n",
    "for i in range (a1+1,a2):\n",
    "    if(i%2==1 or i%2==-1):\n",
    "        total+=i\n",
    "\n",
    "print(total) "
   ]
  },
  {
   "cell_type": "markdown",
   "id": "d2fb7eb9",
   "metadata": {},
   "source": [
    "### Problem_1072_Interval 2_solution"
   ]
  },
  {
   "cell_type": "code",
   "execution_count": 36,
   "id": "ffad4634",
   "metadata": {},
   "outputs": [
    {
     "name": "stdout",
     "output_type": "stream",
     "text": [
      "4\n",
      "14\n",
      "123\n",
      "10\n",
      "-123\n",
      "2 in\n",
      "2 out\n"
     ]
    }
   ],
   "source": [
    "num = int(input())\n",
    "c_in = 0\n",
    "c_out = 0\n",
    "for i in range(1,num+1):\n",
    "    a=int(input())\n",
    "    if(a>=10 and a<=20):\n",
    "        c_in+=1\n",
    "    else:\n",
    "        c_out+=1\n",
    "        \n",
    "print(\"{} in\".format(c_in))\n",
    "print(\"{} out\".format(c_out))"
   ]
  },
  {
   "cell_type": "markdown",
   "id": "2c0063c4",
   "metadata": {},
   "source": [
    "### Problem_1073_Even Square_solution"
   ]
  },
  {
   "cell_type": "code",
   "execution_count": 33,
   "id": "973151d6",
   "metadata": {},
   "outputs": [
    {
     "name": "stdout",
     "output_type": "stream",
     "text": [
      "6\n",
      "2^2 = 4\n",
      "4^2 = 16\n",
      "6^2 = 36\n"
     ]
    }
   ],
   "source": [
    "num =int(input())\n",
    "for i in range(2,num+1):\n",
    "    if(i%2==0):\n",
    "        square=i*i\n",
    "        print(\"{}^2 = {}\".format(i,square))"
   ]
  }
 ],
 "metadata": {
  "kernelspec": {
   "display_name": "Python 3 (ipykernel)",
   "language": "python",
   "name": "python3"
  },
  "language_info": {
   "codemirror_mode": {
    "name": "ipython",
    "version": 3
   },
   "file_extension": ".py",
   "mimetype": "text/x-python",
   "name": "python",
   "nbconvert_exporter": "python",
   "pygments_lexer": "ipython3",
   "version": "3.9.7"
  }
 },
 "nbformat": 4,
 "nbformat_minor": 5
}
